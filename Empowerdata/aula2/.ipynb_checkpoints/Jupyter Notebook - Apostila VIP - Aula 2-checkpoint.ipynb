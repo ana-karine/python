{
 "cells": [
  {
   "cell_type": "markdown",
   "id": "f851d555",
   "metadata": {},
   "source": [
    "# Problema\n",
    "- Buscar dados de valores das ações\n",
    "- Criar as análises solicitadas pelo gestor\n",
    "- Enviar um e-mail com os resultados das análises"
   ]
  },
  {
   "cell_type": "markdown",
   "id": "34b80c36",
   "metadata": {},
   "source": [
    "# Passo 1 - Buscar dados"
   ]
  },
  {
   "cell_type": "code",
   "execution_count": 43,
   "id": "d82887e8",
   "metadata": {},
   "outputs": [
    {
     "name": "stdout",
     "output_type": "stream",
     "text": [
      "Requirement already satisfied: yfinance in c:\\users\\u007860\\anaconda3\\lib\\site-packages (0.2.12)\n",
      "Requirement already satisfied: numpy>=1.16.5 in c:\\users\\u007860\\anaconda3\\lib\\site-packages (from yfinance) (1.21.5)\n",
      "Requirement already satisfied: lxml>=4.9.1 in c:\\users\\u007860\\anaconda3\\lib\\site-packages (from yfinance) (4.9.1)\n",
      "Requirement already satisfied: cryptography>=3.3.2 in c:\\users\\u007860\\anaconda3\\lib\\site-packages (from yfinance) (37.0.1)\n",
      "Requirement already satisfied: pytz>=2022.5 in c:\\users\\u007860\\anaconda3\\lib\\site-packages (from yfinance) (2022.7.1)\n",
      "Requirement already satisfied: appdirs>=1.4.4 in c:\\users\\u007860\\anaconda3\\lib\\site-packages (from yfinance) (1.4.4)\n",
      "Requirement already satisfied: beautifulsoup4>=4.11.1 in c:\\users\\u007860\\anaconda3\\lib\\site-packages (from yfinance) (4.11.1)\n",
      "Requirement already satisfied: html5lib>=1.1 in c:\\users\\u007860\\anaconda3\\lib\\site-packages (from yfinance) (1.1)\n",
      "Requirement already satisfied: frozendict>=2.3.4 in c:\\users\\u007860\\anaconda3\\lib\\site-packages (from yfinance) (2.3.5)\n",
      "Requirement already satisfied: multitasking>=0.0.7 in c:\\users\\u007860\\anaconda3\\lib\\site-packages (from yfinance) (0.0.11)\n",
      "Requirement already satisfied: pandas>=1.3.0 in c:\\users\\u007860\\anaconda3\\lib\\site-packages (from yfinance) (1.4.4)\n",
      "Requirement already satisfied: requests>=2.26 in c:\\users\\u007860\\anaconda3\\lib\\site-packages (from yfinance) (2.28.1)\n",
      "Requirement already satisfied: soupsieve>1.2 in c:\\users\\u007860\\anaconda3\\lib\\site-packages (from beautifulsoup4>=4.11.1->yfinance) (2.3.1)\n",
      "Requirement already satisfied: cffi>=1.12 in c:\\users\\u007860\\anaconda3\\lib\\site-packages (from cryptography>=3.3.2->yfinance) (1.15.1)\n",
      "Requirement already satisfied: six>=1.9 in c:\\users\\u007860\\anaconda3\\lib\\site-packages (from html5lib>=1.1->yfinance) (1.16.0)\n",
      "Requirement already satisfied: webencodings in c:\\users\\u007860\\anaconda3\\lib\\site-packages (from html5lib>=1.1->yfinance) (0.5.1)\n",
      "Requirement already satisfied: python-dateutil>=2.8.1 in c:\\users\\u007860\\anaconda3\\lib\\site-packages (from pandas>=1.3.0->yfinance) (2.8.2)\n",
      "Requirement already satisfied: urllib3<1.27,>=1.21.1 in c:\\users\\u007860\\anaconda3\\lib\\site-packages (from requests>=2.26->yfinance) (1.26.11)\n",
      "Requirement already satisfied: certifi>=2017.4.17 in c:\\users\\u007860\\anaconda3\\lib\\site-packages (from requests>=2.26->yfinance) (2022.9.14)\n",
      "Requirement already satisfied: charset-normalizer<3,>=2 in c:\\users\\u007860\\anaconda3\\lib\\site-packages (from requests>=2.26->yfinance) (2.0.4)\n",
      "Requirement already satisfied: idna<4,>=2.5 in c:\\users\\u007860\\anaconda3\\lib\\site-packages (from requests>=2.26->yfinance) (3.3)\n",
      "Requirement already satisfied: pycparser in c:\\users\\u007860\\anaconda3\\lib\\site-packages (from cffi>=1.12->cryptography>=3.3.2->yfinance) (2.21)\n"
     ]
    }
   ],
   "source": [
    "!pip install yfinance"
   ]
  },
  {
   "cell_type": "code",
   "execution_count": 44,
   "id": "c3f3f94d",
   "metadata": {},
   "outputs": [],
   "source": [
    "import yfinance"
   ]
  },
  {
   "cell_type": "code",
   "execution_count": 45,
   "id": "2eaa9680",
   "metadata": {},
   "outputs": [
    {
     "data": {
      "text/plain": [
       "yfinance.Ticker object <PETR4.SA>"
      ]
     },
     "execution_count": 45,
     "metadata": {},
     "output_type": "execute_result"
    }
   ],
   "source": [
    "yfinance.Ticker(\"PETR4.SA\")"
   ]
  },
  {
   "cell_type": "code",
   "execution_count": 51,
   "id": "f72bb339",
   "metadata": {},
   "outputs": [
    {
     "data": {
      "text/html": [
       "<div>\n",
       "<style scoped>\n",
       "    .dataframe tbody tr th:only-of-type {\n",
       "        vertical-align: middle;\n",
       "    }\n",
       "\n",
       "    .dataframe tbody tr th {\n",
       "        vertical-align: top;\n",
       "    }\n",
       "\n",
       "    .dataframe thead th {\n",
       "        text-align: right;\n",
       "    }\n",
       "</style>\n",
       "<table border=\"1\" class=\"dataframe\">\n",
       "  <thead>\n",
       "    <tr style=\"text-align: right;\">\n",
       "      <th></th>\n",
       "      <th>Open</th>\n",
       "      <th>High</th>\n",
       "      <th>Low</th>\n",
       "      <th>Close</th>\n",
       "      <th>Volume</th>\n",
       "      <th>Dividends</th>\n",
       "      <th>Stock Splits</th>\n",
       "    </tr>\n",
       "    <tr>\n",
       "      <th>Date</th>\n",
       "      <th></th>\n",
       "      <th></th>\n",
       "      <th></th>\n",
       "      <th></th>\n",
       "      <th></th>\n",
       "      <th></th>\n",
       "      <th></th>\n",
       "    </tr>\n",
       "  </thead>\n",
       "  <tbody>\n",
       "    <tr>\n",
       "      <th>2023-02-08 00:00:00-03:00</th>\n",
       "      <td>25.799999</td>\n",
       "      <td>26.150000</td>\n",
       "      <td>25.559999</td>\n",
       "      <td>26.049999</td>\n",
       "      <td>48713100</td>\n",
       "      <td>0.0</td>\n",
       "      <td>0.0</td>\n",
       "    </tr>\n",
       "    <tr>\n",
       "      <th>2023-02-09 00:00:00-03:00</th>\n",
       "      <td>26.049999</td>\n",
       "      <td>26.320000</td>\n",
       "      <td>25.790001</td>\n",
       "      <td>25.930000</td>\n",
       "      <td>38198300</td>\n",
       "      <td>0.0</td>\n",
       "      <td>0.0</td>\n",
       "    </tr>\n",
       "    <tr>\n",
       "      <th>2023-02-10 00:00:00-03:00</th>\n",
       "      <td>25.980000</td>\n",
       "      <td>26.790001</td>\n",
       "      <td>25.930000</td>\n",
       "      <td>26.719999</td>\n",
       "      <td>54683100</td>\n",
       "      <td>0.0</td>\n",
       "      <td>0.0</td>\n",
       "    </tr>\n",
       "    <tr>\n",
       "      <th>2023-02-13 00:00:00-03:00</th>\n",
       "      <td>26.690001</td>\n",
       "      <td>26.889999</td>\n",
       "      <td>26.370001</td>\n",
       "      <td>26.799999</td>\n",
       "      <td>36726900</td>\n",
       "      <td>0.0</td>\n",
       "      <td>0.0</td>\n",
       "    </tr>\n",
       "    <tr>\n",
       "      <th>2023-02-14 00:00:00-03:00</th>\n",
       "      <td>26.850000</td>\n",
       "      <td>27.059999</td>\n",
       "      <td>26.600000</td>\n",
       "      <td>26.700001</td>\n",
       "      <td>35839000</td>\n",
       "      <td>0.0</td>\n",
       "      <td>0.0</td>\n",
       "    </tr>\n",
       "    <tr>\n",
       "      <th>2023-02-15 00:00:00-03:00</th>\n",
       "      <td>26.580000</td>\n",
       "      <td>26.799999</td>\n",
       "      <td>26.299999</td>\n",
       "      <td>26.740000</td>\n",
       "      <td>72554100</td>\n",
       "      <td>0.0</td>\n",
       "      <td>0.0</td>\n",
       "    </tr>\n",
       "    <tr>\n",
       "      <th>2023-02-16 00:00:00-03:00</th>\n",
       "      <td>26.600000</td>\n",
       "      <td>26.950001</td>\n",
       "      <td>26.490000</td>\n",
       "      <td>26.850000</td>\n",
       "      <td>44115700</td>\n",
       "      <td>0.0</td>\n",
       "      <td>0.0</td>\n",
       "    </tr>\n",
       "    <tr>\n",
       "      <th>2023-02-17 00:00:00-03:00</th>\n",
       "      <td>26.670000</td>\n",
       "      <td>26.670000</td>\n",
       "      <td>26.370001</td>\n",
       "      <td>26.440001</td>\n",
       "      <td>61085700</td>\n",
       "      <td>0.0</td>\n",
       "      <td>0.0</td>\n",
       "    </tr>\n",
       "    <tr>\n",
       "      <th>2023-02-22 00:00:00-03:00</th>\n",
       "      <td>26.000000</td>\n",
       "      <td>26.110001</td>\n",
       "      <td>25.690001</td>\n",
       "      <td>25.760000</td>\n",
       "      <td>38608500</td>\n",
       "      <td>0.0</td>\n",
       "      <td>0.0</td>\n",
       "    </tr>\n",
       "    <tr>\n",
       "      <th>2023-02-23 00:00:00-03:00</th>\n",
       "      <td>25.770000</td>\n",
       "      <td>26.790001</td>\n",
       "      <td>25.770000</td>\n",
       "      <td>26.549999</td>\n",
       "      <td>73913400</td>\n",
       "      <td>0.0</td>\n",
       "      <td>0.0</td>\n",
       "    </tr>\n",
       "    <tr>\n",
       "      <th>2023-02-24 00:00:00-03:00</th>\n",
       "      <td>26.670000</td>\n",
       "      <td>26.700001</td>\n",
       "      <td>25.870001</td>\n",
       "      <td>25.900000</td>\n",
       "      <td>64409100</td>\n",
       "      <td>0.0</td>\n",
       "      <td>0.0</td>\n",
       "    </tr>\n",
       "    <tr>\n",
       "      <th>2023-02-27 00:00:00-03:00</th>\n",
       "      <td>25.840000</td>\n",
       "      <td>26.740000</td>\n",
       "      <td>25.809999</td>\n",
       "      <td>26.150000</td>\n",
       "      <td>76250600</td>\n",
       "      <td>0.0</td>\n",
       "      <td>0.0</td>\n",
       "    </tr>\n",
       "    <tr>\n",
       "      <th>2023-02-28 00:00:00-03:00</th>\n",
       "      <td>26.209999</td>\n",
       "      <td>26.920000</td>\n",
       "      <td>25.240000</td>\n",
       "      <td>25.240000</td>\n",
       "      <td>130248100</td>\n",
       "      <td>0.0</td>\n",
       "      <td>0.0</td>\n",
       "    </tr>\n",
       "    <tr>\n",
       "      <th>2023-03-01 00:00:00-03:00</th>\n",
       "      <td>25.309999</td>\n",
       "      <td>25.430000</td>\n",
       "      <td>24.190001</td>\n",
       "      <td>25.299999</td>\n",
       "      <td>109257700</td>\n",
       "      <td>0.0</td>\n",
       "      <td>0.0</td>\n",
       "    </tr>\n",
       "    <tr>\n",
       "      <th>2023-03-02 00:00:00-03:00</th>\n",
       "      <td>25.420000</td>\n",
       "      <td>25.670000</td>\n",
       "      <td>24.370001</td>\n",
       "      <td>24.639999</td>\n",
       "      <td>124516200</td>\n",
       "      <td>0.0</td>\n",
       "      <td>0.0</td>\n",
       "    </tr>\n",
       "    <tr>\n",
       "      <th>2023-03-03 00:00:00-03:00</th>\n",
       "      <td>24.830000</td>\n",
       "      <td>25.740000</td>\n",
       "      <td>24.450001</td>\n",
       "      <td>25.700001</td>\n",
       "      <td>87591800</td>\n",
       "      <td>0.0</td>\n",
       "      <td>0.0</td>\n",
       "    </tr>\n",
       "    <tr>\n",
       "      <th>2023-03-06 00:00:00-03:00</th>\n",
       "      <td>25.700001</td>\n",
       "      <td>26.120001</td>\n",
       "      <td>25.370001</td>\n",
       "      <td>25.959999</td>\n",
       "      <td>50227400</td>\n",
       "      <td>0.0</td>\n",
       "      <td>0.0</td>\n",
       "    </tr>\n",
       "    <tr>\n",
       "      <th>2023-03-07 00:00:00-03:00</th>\n",
       "      <td>25.719999</td>\n",
       "      <td>25.780001</td>\n",
       "      <td>24.930000</td>\n",
       "      <td>25.100000</td>\n",
       "      <td>59052500</td>\n",
       "      <td>0.0</td>\n",
       "      <td>0.0</td>\n",
       "    </tr>\n",
       "    <tr>\n",
       "      <th>2023-03-08 00:00:00-03:00</th>\n",
       "      <td>25.150000</td>\n",
       "      <td>25.920000</td>\n",
       "      <td>25.129999</td>\n",
       "      <td>25.299999</td>\n",
       "      <td>51893800</td>\n",
       "      <td>0.0</td>\n",
       "      <td>0.0</td>\n",
       "    </tr>\n",
       "  </tbody>\n",
       "</table>\n",
       "</div>"
      ],
      "text/plain": [
       "                                Open       High        Low      Close  \\\n",
       "Date                                                                    \n",
       "2023-02-08 00:00:00-03:00  25.799999  26.150000  25.559999  26.049999   \n",
       "2023-02-09 00:00:00-03:00  26.049999  26.320000  25.790001  25.930000   \n",
       "2023-02-10 00:00:00-03:00  25.980000  26.790001  25.930000  26.719999   \n",
       "2023-02-13 00:00:00-03:00  26.690001  26.889999  26.370001  26.799999   \n",
       "2023-02-14 00:00:00-03:00  26.850000  27.059999  26.600000  26.700001   \n",
       "2023-02-15 00:00:00-03:00  26.580000  26.799999  26.299999  26.740000   \n",
       "2023-02-16 00:00:00-03:00  26.600000  26.950001  26.490000  26.850000   \n",
       "2023-02-17 00:00:00-03:00  26.670000  26.670000  26.370001  26.440001   \n",
       "2023-02-22 00:00:00-03:00  26.000000  26.110001  25.690001  25.760000   \n",
       "2023-02-23 00:00:00-03:00  25.770000  26.790001  25.770000  26.549999   \n",
       "2023-02-24 00:00:00-03:00  26.670000  26.700001  25.870001  25.900000   \n",
       "2023-02-27 00:00:00-03:00  25.840000  26.740000  25.809999  26.150000   \n",
       "2023-02-28 00:00:00-03:00  26.209999  26.920000  25.240000  25.240000   \n",
       "2023-03-01 00:00:00-03:00  25.309999  25.430000  24.190001  25.299999   \n",
       "2023-03-02 00:00:00-03:00  25.420000  25.670000  24.370001  24.639999   \n",
       "2023-03-03 00:00:00-03:00  24.830000  25.740000  24.450001  25.700001   \n",
       "2023-03-06 00:00:00-03:00  25.700001  26.120001  25.370001  25.959999   \n",
       "2023-03-07 00:00:00-03:00  25.719999  25.780001  24.930000  25.100000   \n",
       "2023-03-08 00:00:00-03:00  25.150000  25.920000  25.129999  25.299999   \n",
       "\n",
       "                              Volume  Dividends  Stock Splits  \n",
       "Date                                                           \n",
       "2023-02-08 00:00:00-03:00   48713100        0.0           0.0  \n",
       "2023-02-09 00:00:00-03:00   38198300        0.0           0.0  \n",
       "2023-02-10 00:00:00-03:00   54683100        0.0           0.0  \n",
       "2023-02-13 00:00:00-03:00   36726900        0.0           0.0  \n",
       "2023-02-14 00:00:00-03:00   35839000        0.0           0.0  \n",
       "2023-02-15 00:00:00-03:00   72554100        0.0           0.0  \n",
       "2023-02-16 00:00:00-03:00   44115700        0.0           0.0  \n",
       "2023-02-17 00:00:00-03:00   61085700        0.0           0.0  \n",
       "2023-02-22 00:00:00-03:00   38608500        0.0           0.0  \n",
       "2023-02-23 00:00:00-03:00   73913400        0.0           0.0  \n",
       "2023-02-24 00:00:00-03:00   64409100        0.0           0.0  \n",
       "2023-02-27 00:00:00-03:00   76250600        0.0           0.0  \n",
       "2023-02-28 00:00:00-03:00  130248100        0.0           0.0  \n",
       "2023-03-01 00:00:00-03:00  109257700        0.0           0.0  \n",
       "2023-03-02 00:00:00-03:00  124516200        0.0           0.0  \n",
       "2023-03-03 00:00:00-03:00   87591800        0.0           0.0  \n",
       "2023-03-06 00:00:00-03:00   50227400        0.0           0.0  \n",
       "2023-03-07 00:00:00-03:00   59052500        0.0           0.0  \n",
       "2023-03-08 00:00:00-03:00   51893800        0.0           0.0  "
      ]
     },
     "execution_count": 51,
     "metadata": {},
     "output_type": "execute_result"
    }
   ],
   "source": [
    "yfinance.Ticker(\"PETR4.SA\").history()"
   ]
  },
  {
   "cell_type": "code",
   "execution_count": 56,
   "id": "53edfcf7",
   "metadata": {},
   "outputs": [
    {
     "name": "stdout",
     "output_type": "stream",
     "text": [
      "Digite o código da ação: PETR4.SA\n"
     ]
    }
   ],
   "source": [
    "ticker = input(\"Digite o código da ação: \")\n",
    "dados = yfinance.Ticker(ticker).history(\"6mo\")"
   ]
  },
  {
   "cell_type": "code",
   "execution_count": 57,
   "id": "e3cab767",
   "metadata": {},
   "outputs": [
    {
     "data": {
      "text/plain": [
       "Date\n",
       "2022-09-08 00:00:00-03:00    27.823338\n",
       "2022-09-09 00:00:00-03:00    27.814589\n",
       "2022-09-12 00:00:00-03:00    27.543354\n",
       "2022-09-13 00:00:00-03:00    26.817148\n",
       "2022-09-14 00:00:00-03:00    27.228374\n",
       "                               ...    \n",
       "2023-03-02 00:00:00-03:00    24.639999\n",
       "2023-03-03 00:00:00-03:00    25.700001\n",
       "2023-03-06 00:00:00-03:00    25.959999\n",
       "2023-03-07 00:00:00-03:00    25.100000\n",
       "2023-03-08 00:00:00-03:00    25.299999\n",
       "Name: Close, Length: 124, dtype: float64"
      ]
     },
     "execution_count": 57,
     "metadata": {},
     "output_type": "execute_result"
    }
   ],
   "source": [
    "fechamento = dados.Close\n",
    "fechamento"
   ]
  },
  {
   "cell_type": "code",
   "execution_count": 58,
   "id": "c66aa909",
   "metadata": {},
   "outputs": [
    {
     "data": {
      "text/plain": [
       "<AxesSubplot:xlabel='Date'>"
      ]
     },
     "execution_count": 58,
     "metadata": {},
     "output_type": "execute_result"
    },
    {
     "data": {
      "image/png": "[encoded data removed]",
      "text/plain": [
       "<Figure size 640x480 with 1 Axes>"
      ]
     },
     "metadata": {},
     "output_type": "display_data"
    }
   ],
   "source": [
    "fechamento.plot()"
   ]
  },
  {
   "cell_type": "markdown",
   "id": "f7d47c90",
   "metadata": {},
   "source": [
    "# Passo 2 - Criar análises\n",
    "\n",
    "- Cotação máxima\n",
    "- Cotação mínima\n",
    "- Cotação atual"
   ]
  },
  {
   "cell_type": "code",
   "execution_count": 62,
   "id": "c83a0131",
   "metadata": {},
   "outputs": [],
   "source": [
    "maxima = fechamento.max()"
   ]
  },
  {
   "cell_type": "code",
   "execution_count": 63,
   "id": "a7c7ca38",
   "metadata": {},
   "outputs": [],
   "source": [
    "minima = fechamento.min()"
   ]
  },
  {
   "cell_type": "code",
   "execution_count": 64,
   "id": "6660b7bd",
   "metadata": {},
   "outputs": [],
   "source": [
    "atual = fechamento[-1]"
   ]
  },
  {
   "cell_type": "markdown",
   "id": "726ed685",
   "metadata": {},
   "source": [
    "# Passo 3 - Envio de e-mail\n",
    "- Abrir uma nova aba e digitar o endereço do Gmail (enter)\n",
    "- Clicar no botão Compor\n",
    "- Preencher o nome do destinatário\n",
    "- Preencher o assunto\n",
    "- Escrever o e-mail com os resultados da análise\n",
    "- Clicar no botão Enviar"
   ]
  },
  {
   "cell_type": "code",
   "execution_count": 65,
   "id": "22950c7b",
   "metadata": {},
   "outputs": [
    {
     "name": "stdout",
     "output_type": "stream",
     "text": [
      "Collecting pyautogui\n",
      "  Downloading PyAutoGUI-0.9.53.tar.gz (59 kB)\n",
      "     -------------------------------------- 59.0/59.0 kB 774.5 kB/s eta 0:00:00\n",
      "  Preparing metadata (setup.py): started\n",
      "  Preparing metadata (setup.py): finished with status 'done'\n",
      "Collecting pymsgbox\n",
      "  Downloading PyMsgBox-1.0.9.tar.gz (18 kB)\n",
      "  Installing build dependencies: started\n",
      "  Installing build dependencies: finished with status 'done'\n",
      "  Getting requirements to build wheel: started\n",
      "  Getting requirements to build wheel: finished with status 'done'\n",
      "  Preparing metadata (pyproject.toml): started\n",
      "  Preparing metadata (pyproject.toml): finished with status 'done'\n",
      "Collecting PyTweening>=1.0.1\n",
      "  Downloading pytweening-1.0.4.tar.gz (14 kB)\n",
      "  Preparing metadata (setup.py): started\n",
      "  Preparing metadata (setup.py): finished with status 'done'\n",
      "Collecting pyscreeze>=0.1.21\n",
      "  Downloading PyScreeze-0.1.28.tar.gz (25 kB)\n",
      "  Installing build dependencies: started\n",
      "  Installing build dependencies: finished with status 'done'\n",
      "  Getting requirements to build wheel: started\n",
      "  Getting requirements to build wheel: finished with status 'done'\n",
      "  Preparing metadata (pyproject.toml): started\n",
      "  Preparing metadata (pyproject.toml): finished with status 'done'\n",
      "Collecting pygetwindow>=0.0.5\n",
      "  Downloading PyGetWindow-0.0.9.tar.gz (9.7 kB)\n",
      "  Preparing metadata (setup.py): started\n",
      "  Preparing metadata (setup.py): finished with status 'done'\n",
      "Collecting mouseinfo\n",
      "  Downloading MouseInfo-0.1.3.tar.gz (10 kB)\n",
      "  Preparing metadata (setup.py): started\n",
      "  Preparing metadata (setup.py): finished with status 'done'\n",
      "Collecting pyrect\n",
      "  Downloading PyRect-0.2.0.tar.gz (17 kB)\n",
      "  Preparing metadata (setup.py): started\n",
      "  Preparing metadata (setup.py): finished with status 'done'\n",
      "Collecting pyperclip\n",
      "  Downloading pyperclip-1.8.2.tar.gz (20 kB)\n",
      "  Preparing metadata (setup.py): started\n",
      "  Preparing metadata (setup.py): finished with status 'done'\n",
      "Building wheels for collected packages: pyautogui, pygetwindow, pyscreeze, PyTweening, mouseinfo, pymsgbox, pyperclip, pyrect\n",
      "  Building wheel for pyautogui (setup.py): started\n",
      "  Building wheel for pyautogui (setup.py): finished with status 'done'\n",
      "  Created wheel for pyautogui: filename=PyAutoGUI-0.9.53-py3-none-any.whl size=36601 sha256=9e044244a5f59d40f1ba46372f778bd18eefcec877ddd2980530f15513c372c4\n",
      "  Stored in directory: c:\\users\\u007860\\appdata\\local\\pip\\cache\\wheels\\d8\\97\\e4\\d2edca92a87d3b5fbfb527264750a17b4ba297b9a7cab6e67f\n",
      "  Building wheel for pygetwindow (setup.py): started\n",
      "  Building wheel for pygetwindow (setup.py): finished with status 'done'\n",
      "  Created wheel for pygetwindow: filename=PyGetWindow-0.0.9-py3-none-any.whl size=11063 sha256=2172c5f8696e322167b24caa96108623f74861c942c26207bfa70ef95f1d7b2a\n",
      "  Stored in directory: c:\\users\\u007860\\appdata\\local\\pip\\cache\\wheels\\44\\ab\\20\\423c3a444793767e4e41f8377bc902f77bee212e68dcce85a5\n",
      "  Building wheel for pyscreeze (pyproject.toml): started\n",
      "  Building wheel for pyscreeze (pyproject.toml): finished with status 'done'\n",
      "  Created wheel for pyscreeze: filename=PyScreeze-0.1.28-py3-none-any.whl size=13027 sha256=b4af95b5d213af815325da2d9997949a349f560a21d5347caf96699de68c605e\n",
      "  Stored in directory: c:\\users\\u007860\\appdata\\local\\pip\\cache\\wheels\\a2\\5b\\86\\99f1d8fac5d92de0ccb3f0d4ad15e3f4278baf75a9b0f20b93\n",
      "  Building wheel for PyTweening (setup.py): started\n",
      "  Building wheel for PyTweening (setup.py): finished with status 'done'\n",
      "  Created wheel for PyTweening: filename=pytweening-1.0.4-py3-none-any.whl size=5838 sha256=b6efb477db3c4fbdfaca650f19505f388744ff0523e6f55a9b694f152fa22621\n",
      "  Stored in directory: c:\\users\\u007860\\appdata\\local\\pip\\cache\\wheels\\a4\\5d\\d2\\ba4c8f82163233ffaadcf383c1e34d7d92635d357d13e7b78d\n",
      "  Building wheel for mouseinfo (setup.py): started\n",
      "  Building wheel for mouseinfo (setup.py): finished with status 'done'\n",
      "  Created wheel for mouseinfo: filename=MouseInfo-0.1.3-py3-none-any.whl size=10891 sha256=4ad0b7e7cebb4b82ca538e730e949faa2b6b552b26e605fa68a56c0284defee1\n",
      "  Stored in directory: c:\\users\\u007860\\appdata\\local\\pip\\cache\\wheels\\61\\73\\b9\\6fb1131ab36e650206e3aa0ad7a68907b41b32ac2d4f75f543\n",
      "  Building wheel for pymsgbox (pyproject.toml): started\n",
      "  Building wheel for pymsgbox (pyproject.toml): finished with status 'done'\n",
      "  Created wheel for pymsgbox: filename=PyMsgBox-1.0.9-py3-none-any.whl size=7416 sha256=4ce96155a8a6905dcd737a402cc268b23d879308c46613b6df055cbfe02166bc\n",
      "  Stored in directory: c:\\users\\u007860\\appdata\\local\\pip\\cache\\wheels\\7f\\13\\8c\\584c519464297d9637f9cd29fd1dcdf55e2a2cab225c76a2db\n",
      "  Building wheel for pyperclip (setup.py): started\n",
      "  Building wheel for pyperclip (setup.py): finished with status 'done'\n",
      "  Created wheel for pyperclip: filename=pyperclip-1.8.2-py3-none-any.whl size=11123 sha256=aadd853dfbc428cd65de9b7ac152d724d92da7e12470761407961933e7ed1e9f\n",
      "  Stored in directory: c:\\users\\u007860\\appdata\\local\\pip\\cache\\wheels\\0c\\09\\9e\\49e21a6840ef7955b06d47394afef0058f0378c0914e48b8b8\n",
      "  Building wheel for pyrect (setup.py): started\n",
      "  Building wheel for pyrect (setup.py): finished with status 'done'\n",
      "  Created wheel for pyrect: filename=PyRect-0.2.0-py2.py3-none-any.whl size=11179 sha256=8637805c041ef775b98583fa074c7c939f46d9d4eca316310919645ebeec9a55\n",
      "  Stored in directory: c:\\users\\u007860\\appdata\\local\\pip\\cache\\wheels\\25\\80\\fa\\27bb4a1c2e21f64ec71390489d52e57b7cc8afbe79bd595c5e\n",
      "Successfully built pyautogui pygetwindow pyscreeze PyTweening mouseinfo pymsgbox pyperclip pyrect\n",
      "Installing collected packages: PyTweening, pyscreeze, pyrect, pyperclip, pymsgbox, pygetwindow, mouseinfo, pyautogui\n",
      "Successfully installed PyTweening-1.0.4 mouseinfo-0.1.3 pyautogui-0.9.53 pygetwindow-0.0.9 pymsgbox-1.0.9 pyperclip-1.8.2 pyrect-0.2.0 pyscreeze-0.1.28\n"
     ]
    }
   ],
   "source": [
    "!pip install pyautogui"
   ]
  },
  {
   "cell_type": "code",
   "execution_count": 66,
   "id": "06e4d535",
   "metadata": {},
   "outputs": [
    {
     "name": "stdout",
     "output_type": "stream",
     "text": [
      "Requirement already satisfied: pyperclip in c:\\users\\u007860\\anaconda3\\lib\\site-packages (1.8.2)\n"
     ]
    }
   ],
   "source": [
    "!pip install pyperclip"
   ]
  },
  {
   "cell_type": "code",
   "execution_count": 67,
   "id": "a8a56f65",
   "metadata": {},
   "outputs": [],
   "source": [
    "import pyautogui\n",
    "import pyperclip"
   ]
  },
  {
   "cell_type": "code",
   "execution_count": 99,
   "id": "f2b15d30",
   "metadata": {},
   "outputs": [],
   "source": [
    "pyautogui.PAUSE = 2\n",
    "\n",
    "pyautogui.hotkey(\"ctrl\", \"t\")\n",
    "pyperclip.copy(\"www.gmail.com\")\n",
    "pyautogui.hotkey(\"ctrl\", \"v\")\n",
    "pyautogui.hotkey(\"enter\")\n",
    "pyautogui.click(x=1159, y=181)\n",
    "\n",
    "pyperclip.copy(\"anakarine.ti@gmail.com\")\n",
    "pyautogui.hotkey(\"ctrl\", \"v\")\n",
    "pyautogui.hotkey(\"tab\")\n",
    "\n",
    "pyperclip.copy(\"Análises diárias\")\n",
    "pyautogui.hotkey(\"ctrl\", \"v\")\n",
    "pyautogui.hotkey(\"tab\")\n",
    "\n",
    "mensagem = f\"\"\"\n",
    "Prezada gestora,\n",
    "\n",
    "\n",
    "Seguem as análises dos últimos seis meses da ação {ticker}:\n",
    "\n",
    "Cotação máxima: R$ {round(maxima, 2)}\n",
    "Cotação mínima: R$ {round(minima, 2)}\n",
    "Cotação atual: R$ {round(atual, 2)}\n",
    "\n",
    "Qualquer dúvida, estou à disposição.\n",
    "\n",
    "\n",
    "Atte.\n",
    "\"\"\"\n",
    "\n",
    "pyperclip.copy(mensagem)\n",
    "pyautogui.hotkey(\"ctrl\", \"v\")\n",
    "\n",
    "pyautogui.click(x=1368, y=972)"
   ]
  },
  {
   "cell_type": "code",
   "execution_count": 96,
   "id": "2ef64ce3",
   "metadata": {},
   "outputs": [
    {
     "data": {
      "text/plain": [
       "Point(x=1368, y=972)"
      ]
     },
     "execution_count": 96,
     "metadata": {},
     "output_type": "execute_result"
    }
   ],
   "source": [
    "import time\n",
    "\n",
    "time.sleep(5)\n",
    "\n",
    "pyautogui.position()"
   ]
  }
 ],
 "metadata": {
  "kernelspec": {
   "display_name": "Python 3 (ipykernel)",
   "language": "python",
   "name": "python3"
  },
  "language_info": {
   "codemirror_mode": {
    "name": "ipython",
    "version": 3
   },
   "file_extension": ".py",
   "mimetype": "text/x-python",
   "name": "python",
   "nbconvert_exporter": "python",
   "pygments_lexer": "ipython3",
   "version": "3.9.13"
  }
 },
 "nbformat": 4,
 "nbformat_minor": 5
}
