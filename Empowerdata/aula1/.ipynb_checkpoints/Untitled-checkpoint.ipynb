{
 "cells": [
  {
   "cell_type": "markdown",
   "id": "4066777e",
   "metadata": {},
   "source": [
    "# Meu primeiro código Python\n"
   ]
  },
  {
   "cell_type": "code",
   "execution_count": 5,
   "id": "ef18b5be",
   "metadata": {},
   "outputs": [
    {
     "name": "stdout",
     "output_type": "stream",
     "text": [
      "Orçamento gerado com sucesso\n",
      "Semana do Python na Prática\n",
      "Eu amo programar em Python\n"
     ]
    }
   ],
   "source": [
    "print(\"Orçamento gerado com sucesso\")\n",
    "print(\"Semana do Python na Prática\")\n",
    "print(\"Eu amo programar em Python\")"
   ]
  },
  {
   "cell_type": "markdown",
   "id": "4679b030",
   "metadata": {},
   "source": [
    "# Entrada de dados do usuário"
   ]
  },
  {
   "cell_type": "code",
   "execution_count": 11,
   "id": "a9ea75cb",
   "metadata": {},
   "outputs": [
    {
     "name": "stdout",
     "output_type": "stream",
     "text": [
      "Digite a descrição do projeto: Desenvolvimento Python\n",
      "Digite a quantidade de horas estimadas: 120\n",
      "Digite o valor da hora trabalhada: 200\n",
      "Digite o prazo: 3 meses\n"
     ]
    },
    {
     "data": {
      "text/plain": [
       "'3 meses'"
      ]
     },
     "execution_count": 11,
     "metadata": {},
     "output_type": "execute_result"
    }
   ],
   "source": [
    "input(\"Digite a descrição do projeto: \")\n",
    "input(\"Digite a quantidade de horas estimadas: \")\n",
    "input(\"Digite o valor da hora trabalhada: \")\n",
    "input(\"Digite o prazo: \")"
   ]
  },
  {
   "cell_type": "markdown",
   "id": "fef17420",
   "metadata": {},
   "source": [
    "# Guardando os dados (variáveis)"
   ]
  },
  {
   "cell_type": "code",
   "execution_count": 23,
   "id": "b54e24ec",
   "metadata": {},
   "outputs": [
    {
     "name": "stdout",
     "output_type": "stream",
     "text": [
      "Digite a descrição do projeto: Desenvolvimento Python\n",
      "Digite a quantidade de horas estimadas: 150\n",
      "Digite o valor da hora trabalhada: 150\n",
      "Digite o prazo: 3 meses\n"
     ]
    }
   ],
   "source": [
    "projeto = input(\"Digite a descrição do projeto: \")\n",
    "horas_estimadas = input(\"Digite a quantidade de horas estimadas: \")\n",
    "valor_hora = input(\"Digite o valor da hora trabalhada: \")\n",
    "prazo = input(\"Digite o prazo: \")"
   ]
  },
  {
   "cell_type": "code",
   "execution_count": 15,
   "id": "427491f8",
   "metadata": {},
   "outputs": [
    {
     "name": "stdout",
     "output_type": "stream",
     "text": [
      "3 meses\n"
     ]
    }
   ],
   "source": [
    "print(prazo)"
   ]
  },
  {
   "cell_type": "markdown",
   "id": "a92fafcb",
   "metadata": {},
   "source": [
    "# Cálculos"
   ]
  },
  {
   "cell_type": "code",
   "execution_count": 25,
   "id": "136b1b09",
   "metadata": {},
   "outputs": [],
   "source": [
    "valor_total = int(horas_estimadas) * int(valor_hora)"
   ]
  },
  {
   "cell_type": "markdown",
   "id": "1aef7273",
   "metadata": {},
   "source": [
    "# Tipos de dados - números e textos"
   ]
  },
  {
   "cell_type": "code",
   "execution_count": 18,
   "id": "91b6e893",
   "metadata": {},
   "outputs": [
    {
     "data": {
      "text/plain": [
       "int"
      ]
     },
     "execution_count": 18,
     "metadata": {},
     "output_type": "execute_result"
    }
   ],
   "source": [
    "type(10)"
   ]
  },
  {
   "cell_type": "code",
   "execution_count": 19,
   "id": "22ac630a",
   "metadata": {},
   "outputs": [
    {
     "data": {
      "text/plain": [
       "str"
      ]
     },
     "execution_count": 19,
     "metadata": {},
     "output_type": "execute_result"
    }
   ],
   "source": [
    "type(\"10\")"
   ]
  },
  {
   "cell_type": "markdown",
   "id": "c2347ed4",
   "metadata": {},
   "source": [
    "# Gerando o PDF do orçamento"
   ]
  },
  {
   "cell_type": "code",
   "execution_count": 26,
   "id": "7b81a2d3",
   "metadata": {},
   "outputs": [
    {
     "name": "stdout",
     "output_type": "stream",
     "text": [
      "Collecting fpdf\n",
      "  Downloading fpdf-1.7.2.tar.gz (39 kB)\n",
      "  Preparing metadata (setup.py): started\n",
      "  Preparing metadata (setup.py): finished with status 'done'\n",
      "Building wheels for collected packages: fpdf\n",
      "  Building wheel for fpdf (setup.py): started\n",
      "  Building wheel for fpdf (setup.py): finished with status 'done'\n",
      "  Created wheel for fpdf: filename=fpdf-1.7.2-py2.py3-none-any.whl size=40705 sha256=de14a4a2d9ff4e1331a36a5ab93c86e5f3ce8350cf98aa4d827bbb5f2d75a362\n",
      "  Stored in directory: c:\\users\\u007860\\appdata\\local\\pip\\cache\\wheels\\44\\35\\8b\\86ce00cec7e4d13c5f189680ae0fa82f919bedc066c2cddae9\n",
      "Successfully built fpdf\n",
      "Installing collected packages: fpdf\n",
      "Successfully installed fpdf-1.7.2\n"
     ]
    }
   ],
   "source": [
    "!pip install fpdf"
   ]
  },
  {
   "cell_type": "code",
   "execution_count": 27,
   "id": "888f558a",
   "metadata": {},
   "outputs": [],
   "source": [
    "from fpdf import FPDF"
   ]
  },
  {
   "cell_type": "code",
   "execution_count": 41,
   "id": "1ace994c",
   "metadata": {},
   "outputs": [
    {
     "name": "stdout",
     "output_type": "stream",
     "text": [
      "Orçamento gerado com sucesso\n"
     ]
    }
   ],
   "source": [
    "pdf = FPDF()\n",
    "\n",
    "pdf.add_page()\n",
    "pdf.set_font(\"Arial\")\n",
    "\n",
    "pdf.image(\"template.png\", x = 0, y = 0)\n",
    "\n",
    "pdf.text(115, 145, projeto)\n",
    "pdf.text(115, 160, horas_estimadas)\n",
    "pdf.text(115, 175, valor_hora)\n",
    "pdf.text(115, 190, prazo)\n",
    "pdf.text(115, 205, str(valor_total))\n",
    "\n",
    "pdf.output(\"Orçamento Python.pdf\")\n",
    "         \n",
    "print(\"Orçamento gerado com sucesso\")"
   ]
  },
  {
   "cell_type": "code",
   "execution_count": null,
   "id": "f5aea21a",
   "metadata": {},
   "outputs": [],
   "source": []
  }
 ],
 "metadata": {
  "kernelspec": {
   "display_name": "Python 3 (ipykernel)",
   "language": "python",
   "name": "python3"
  },
  "language_info": {
   "codemirror_mode": {
    "name": "ipython",
    "version": 3
   },
   "file_extension": ".py",
   "mimetype": "text/x-python",
   "name": "python",
   "nbconvert_exporter": "python",
   "pygments_lexer": "ipython3",
   "version": "3.9.13"
  }
 },
 "nbformat": 4,
 "nbformat_minor": 5
}
